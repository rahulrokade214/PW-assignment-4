{
 "cells": [
  {
   "cell_type": "markdown",
   "id": "a438d312-971f-4f93-a0cc-e7c186c1c453",
   "metadata": {},
   "source": [
    "## Q1. Create a python program to sort the given list of tuples based on integer value using alambda function.\n",
    "[('Sachin Tendulkar', 34357), ('Ricky Ponting', 27483), ('Jack Kallis', 25534), ('Virat Kohli', 24936)]"
   ]
  },
  {
   "cell_type": "code",
   "execution_count": 1,
   "id": "ababe0cf-9e7f-4540-a1d5-cac61fbaca87",
   "metadata": {},
   "outputs": [
    {
     "name": "stdout",
     "output_type": "stream",
     "text": [
      "[('Virat Kohli', 24936), ('Jack Kallis', 25534), ('Ricky Ponting', 27483), ('Sachin Tendulkar', 34357)]\n"
     ]
    }
   ],
   "source": [
    "from functools import reduce\n",
    "\n",
    "l1 = [('Sachin Tendulkar', 34357), ('Ricky Ponting', 27483), ('Jack Kallis', 25534), ('Virat Kohli', 24936)]\n",
    "l1.sort(key=lambda x: x[1])\n",
    "print(l1)"
   ]
  },
  {
   "cell_type": "markdown",
   "id": "a0071d1f-2c00-470f-a480-8ab3ae38fcee",
   "metadata": {},
   "source": [
    "## Q2. Write a Python Program to find the squares of all the numbers in the given list of integers usin"
   ]
  },
  {
   "cell_type": "code",
   "execution_count": null,
   "id": "7fb963f4-d566-4654-bd87-0aa0d3315d81",
   "metadata": {},
   "outputs": [],
   "source": [
    "lambda and map functions.\n",
    "l2 = [1, 2, 3, 4, 5, 6, 7, 8, 9, 10]\n",
    "print(list(map(lambda x: x * x, l2)))"
   ]
  },
  {
   "cell_type": "markdown",
   "id": "84f2e9a3-d902-4feb-9842-c8eac6b823d5",
   "metadata": {},
   "source": [
    "## Q3. Write a python program to convert the given list of integers into a tuple of strings. Use map and lambda functions\n",
    "Given String: [1, 2, 3, 4, 5, 6, 7, 8, 9, 10]\n",
    "Expected output: ('1', '2', '3', '4', '5', '6', '7', '8', '9', '10')\n"
   ]
  },
  {
   "cell_type": "code",
   "execution_count": null,
   "id": "61a17215-6c69-4f8d-853e-4982d5a2cc77",
   "metadata": {},
   "outputs": [],
   "source": [
    "l3 = [1, 2, 3, 4, 5, 6, 7, 8, 9, 10]\n",
    "print(tuple(map(lambda x: str(x), l3)))\n"
   ]
  },
  {
   "cell_type": "markdown",
   "id": "929d68af-5054-427b-b5f8-589a3978c983",
   "metadata": {},
   "source": [
    "## Q4. Write a python program using reduce function to compute the product of a list containing numbers from 1 to 25.\n"
   ]
  },
  {
   "cell_type": "code",
   "execution_count": null,
   "id": "41c2f478-6372-4f69-9d39-bc084c3f637f",
   "metadata": {},
   "outputs": [],
   "source": [
    "l4 = list(range(1, 26))\n",
    "print(l4)\n",
    "sum = reduce(lambda x, y: x + y, l4)\n",
    "sum1 = reduce(lambda x, y: x * y, l4)\n",
    "print(sum)\n",
    "print(sum1)"
   ]
  },
  {
   "cell_type": "markdown",
   "id": "158007c9-d2e7-4f4f-845c-9e80d1056807",
   "metadata": {},
   "source": [
    "## Q5. Write a python program to filter the numbers in a given list that are divisible by 2 and 3 using the #filter function.\n",
    "[2, 3, 6, 9, 27, 60, 90, 120, 55, 46]\n"
   ]
  },
  {
   "cell_type": "code",
   "execution_count": null,
   "id": "943075ee-cfb8-40f8-a95f-cd43c4df79e1",
   "metadata": {},
   "outputs": [],
   "source": [
    "l5 = [2, 3, 6, 9, 27, 60, 90, 120, 55, 46]\n",
    "print(list(filter(lambda x: x % 2 == 0 and x % 3 == 0, l5)))\n",
    "\n"
   ]
  },
  {
   "cell_type": "markdown",
   "id": "4753ed3e-c430-44df-999b-804ff77c7e83",
   "metadata": {},
   "source": [
    "## Q6. Write a python program to find palindromes in the given list of strings using lambda and filter\n"
   ]
  },
  {
   "cell_type": "code",
   "execution_count": null,
   "id": "dfd58537-9010-40f5-9520-d4bce39928a6",
   "metadata": {},
   "outputs": [],
   "source": [
    "l6 = ['python', 'php', 'aba', 'radar', 'level']\n",
    "print(list(filter(lambda x: x == x[::-1] , l6)))"
   ]
  }
 ],
 "metadata": {
  "kernelspec": {
   "display_name": "Python 3 (ipykernel)",
   "language": "python",
   "name": "python3"
  },
  "language_info": {
   "codemirror_mode": {
    "name": "ipython",
    "version": 3
   },
   "file_extension": ".py",
   "mimetype": "text/x-python",
   "name": "python",
   "nbconvert_exporter": "python",
   "pygments_lexer": "ipython3",
   "version": "3.10.8"
  }
 },
 "nbformat": 4,
 "nbformat_minor": 5
}
